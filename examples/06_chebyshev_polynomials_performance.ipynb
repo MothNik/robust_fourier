{
 "cells": [
  {
   "cell_type": "markdown",
   "metadata": {},
   "source": [
    "# ⏱️📈 Example 6: Chebyshev polynomials performance comparison\n",
    "\n",
    "This notebook compares the performance of the Chebyshev polynomials implemented in \n",
    "Numpy and Numba.\n",
    "\n",
    "## 1) ☁️🔌 Imports\n"
   ]
  },
  {
   "cell_type": "code",
   "execution_count": null,
   "metadata": {},
   "outputs": [],
   "source": [
    "import os\n",
    "\n",
    "import numpy as np\n",
    "import perfplot\n",
    "from matplotlib import pyplot as plt\n",
    "\n",
    "from robust_fourier import (\n",
    "    chebyshev_poly_basis,\n",
    ")\n",
    "\n",
    "%matplotlib widget"
   ]
  },
  {
   "cell_type": "markdown",
   "metadata": {},
   "source": [
    "## 2) ⚙️📝 Configuration\n"
   ]
  },
  {
   "cell_type": "code",
   "execution_count": null,
   "metadata": {},
   "outputs": [],
   "source": [
    "# the x-values to evaluate the Chebyshev polynomials\n",
    "X_FROM = -1.0\n",
    "X_TO = 1.0\n",
    "NUM_X = 2_501\n",
    "\n",
    "# the scaling factor alpha to use\n",
    "ALPHA = 1.0\n",
    "\n",
    "# the orders of the Chebyshev polynomials to evaluate\n",
    "ORDERS = [int(2 ** (i * 0.3333)) for i in range(0, 45)]\n",
    "\n",
    "# the path where to save the plot\n",
    "SAVE_PATH = \"../docs/chebyshev_polynomials/EX-06-ChebyshevPolynomialsPerformance.svg\"\n",
    "# the resolution of the saved plot\n",
    "DPI = 300\n",
    "\n",
    "# the Numba-based version of the Chebyshev polynomials is pre-compiled to avoid the\n",
    "# compilation overhead in the performance comparison\n",
    "_ = chebyshev_poly_basis(\n",
    "    x=np.linspace(start=X_FROM, stop=X_TO, num=NUM_X),\n",
    "    n=ORDERS[0],\n",
    "    alpha=ALPHA,\n",
    "    kind=1,\n",
    "    jit=True,\n",
    ")"
   ]
  },
  {
   "cell_type": "markdown",
   "metadata": {},
   "source": [
    "## 3) 🏃🦾 Performance comparison\n"
   ]
  },
  {
   "cell_type": "code",
   "execution_count": null,
   "metadata": {},
   "outputs": [],
   "source": [
    "plt.close(\"all\")\n",
    "\n",
    "perfplot_kwargs = dict(\n",
    "    setup=lambda n: (np.linspace(start=X_FROM, stop=X_TO, num=NUM_X), n, ALPHA),\n",
    "    kernels=[\n",
    "        lambda x, n, alpha: chebyshev_poly_basis(\n",
    "            x=x,\n",
    "            n=n,\n",
    "            alpha=alpha,\n",
    "            kind=1,\n",
    "            jit=False,\n",
    "        ),\n",
    "        lambda x, n, alpha: chebyshev_poly_basis(\n",
    "            x=x,\n",
    "            n=n,\n",
    "            alpha=alpha,\n",
    "            kind=1,\n",
    "            jit=True,\n",
    "        ),\n",
    "    ],\n",
    "    labels=[\n",
    "        \"NumPy Full Basis\",\n",
    "        \"Numba Full Basis\",\n",
    "    ],\n",
    "    n_range=ORDERS,\n",
    "    logx=True,\n",
    "    logy=True,\n",
    "    xlabel=\"Order of the Chebyshev Polynomial Basis\",\n",
    "    title=f\"Performance of Chebyshev Polynomials for {NUM_X} x-values\",\n",
    "    show_progress=True,\n",
    "    target_time_per_measurement=0.1,\n",
    ")\n",
    "\n",
    "\n",
    "perfplot.show(**perfplot_kwargs)  # type: ignore\n",
    "\n",
    "fig = plt.gcf()\n",
    "ax = plt.gca()\n",
    "ax.grid(which=\"both\", axis=\"both\")\n",
    "# make the spines visible black and wider\n",
    "for spine in ax.spines.values():\n",
    "    spine.set_visible(True)\n",
    "    spine.set_edgecolor(\"black\")\n",
    "    spine.set_linewidth(0.5)\n",
    "\n",
    "ax.xaxis.label.set_color(\"black\")\n",
    "ax.yaxis.label.set_color(\"black\")\n",
    "ax.tick_params(axis=\"x\", colors=\"black\")\n",
    "ax.tick_params(axis=\"y\", colors=\"black\")\n",
    "\n",
    "ax.title.set_color(\"black\")\n",
    "\n",
    "fig.set_size_inches(10, 6)\n",
    "fig.tight_layout()\n",
    "\n",
    "if os.getenv(\"ROBFT_DEVELOPER\", \"false\").lower() == \"true\":\n",
    "    plt.savefig(\n",
    "        bbox_inches=\"tight\",\n",
    "        fname=os.path.join(os.getcwd(), SAVE_PATH),\n",
    "        dpi=DPI,\n",
    "    )"
   ]
  },
  {
   "cell_type": "code",
   "execution_count": null,
   "metadata": {},
   "outputs": [],
   "source": []
  }
 ],
 "metadata": {
  "language_info": {
   "name": "python"
  }
 },
 "nbformat": 4,
 "nbformat_minor": 2
}
